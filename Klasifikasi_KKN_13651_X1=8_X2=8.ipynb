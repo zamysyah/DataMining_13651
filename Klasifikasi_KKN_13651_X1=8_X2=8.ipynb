{
  "nbformat": 4,
  "nbformat_minor": 0,
  "metadata": {
    "colab": {
      "provenance": []
    },
    "kernelspec": {
      "name": "python3",
      "display_name": "Python 3"
    },
    "language_info": {
      "name": "python"
    }
  },
  "cells": [
    {
      "cell_type": "code",
      "execution_count": 5,
      "metadata": {
        "id": "-3LiEzyMFXh2"
      },
      "outputs": [],
      "source": [
        "import math\n",
        "x1 = 8\n",
        "x2 = 8"
      ]
    },
    {
      "cell_type": "code",
      "source": [
        "data = [\n",
        "    [1, 10, 7, \"A\"],\n",
        "    [2, 2, 3, \"B\"],\n",
        "    [3, 4, 2, \"B\"],\n",
        "    [4, 6, 4, \"B\"],\n",
        "    [5, 8, 6, \"A\"],\n",
        "    [6, 7, 5, \"A\"],\n",
        "    [7, 4, 3, \"B\"],\n",
        "    [8, 6, 3, \"B\"],\n",
        "    [9, 7, 4, \"A\"],\n",
        "    [10, 6, 3, \"A\"]\n",
        "]"
      ],
      "metadata": {
        "id": "wG9XMI5PFfuw"
      },
      "execution_count": 3,
      "outputs": []
    },
    {
      "cell_type": "code",
      "source": [
        "jarak = []\n",
        "for d in data:\n",
        "    j = math.sqrt((x1-d[1])**2 + (x2-d[2])**2)\n",
        "    jarak.append([j, d[3]])"
      ],
      "metadata": {
        "id": "ExoopWRWF7Jh"
      },
      "execution_count": 6,
      "outputs": []
    },
    {
      "cell_type": "code",
      "source": [
        "jarak.sort()"
      ],
      "metadata": {
        "id": "JwLuBNctF_JH"
      },
      "execution_count": 7,
      "outputs": []
    },
    {
      "cell_type": "code",
      "source": [
        "K = 7\n",
        "terdekat = jarak[:K]"
      ],
      "metadata": {
        "id": "6561Xy_LGDDQ"
      },
      "execution_count": 8,
      "outputs": []
    },
    {
      "cell_type": "code",
      "source": [
        "kelas = {\"A\": 0, \"B\": 0}\n",
        "for t in terdekat:\n",
        "    kelas[t[1]] += 1"
      ],
      "metadata": {
        "id": "8Qs_p56EGHLe"
      },
      "execution_count": 9,
      "outputs": []
    },
    {
      "cell_type": "code",
      "source": [
        "if kelas[\"A\"] == kelas[\"B\"]:\n",
        "    y = terdekat[0][1]\n",
        "else:\n",
        "    y = max(kelas, key=kelas.get)\n",
        "\n",
        "print(\"Prediksi kelas y:\", y)"
      ],
      "metadata": {
        "colab": {
          "base_uri": "https://localhost:8080/"
        },
        "id": "uoD-ykKFGKvS",
        "outputId": "37c798d9-c97f-445c-9eac-0819a78aae1b"
      },
      "execution_count": 10,
      "outputs": [
        {
          "output_type": "stream",
          "name": "stdout",
          "text": [
            "Prediksi kelas y: A\n"
          ]
        }
      ]
    }
  ]
}