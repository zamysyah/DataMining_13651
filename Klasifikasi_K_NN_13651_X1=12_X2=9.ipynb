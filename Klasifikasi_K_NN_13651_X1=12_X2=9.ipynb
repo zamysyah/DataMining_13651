{
  "nbformat": 4,
  "nbformat_minor": 0,
  "metadata": {
    "colab": {
      "provenance": []
    },
    "kernelspec": {
      "name": "python3",
      "display_name": "Python 3"
    },
    "language_info": {
      "name": "python"
    }
  },
  "cells": [
    {
      "cell_type": "code",
      "execution_count": 1,
      "metadata": {
        "id": "F7z6M320Hgcn"
      },
      "outputs": [],
      "source": [
        "import math\n",
        "x1 = 12\n",
        "x2 = 9\n",
        "data = [\n",
        "    [1, 10, 7, \"A\"],\n",
        "    [2, 2, 3, \"B\"],\n",
        "    [3, 4, 2, \"B\"],\n",
        "    [4, 6, 4, \"B\"],\n",
        "    [5, 8, 6, \"A\"],\n",
        "    [6, 7, 5, \"A\"],\n",
        "    [7, 4, 3, \"B\"],\n",
        "    [8, 6, 3, \"B\"],\n",
        "    [9, 7, 4, \"A\"],\n",
        "    [10, 6, 3, \"A\"]\n",
        "]"
      ]
    },
    {
      "cell_type": "code",
      "source": [
        "jarak = []\n",
        "for d in data:\n",
        "    j = math.sqrt((x1-d[1])**2 + (x2-d[2])**2)\n",
        "    jarak.append([j, d[3]])"
      ],
      "metadata": {
        "id": "vHNANohBH8QR"
      },
      "execution_count": 2,
      "outputs": []
    },
    {
      "cell_type": "code",
      "source": [
        "jarak.sort()\n"
      ],
      "metadata": {
        "id": "qfW5NTkjH_e5"
      },
      "execution_count": 3,
      "outputs": []
    },
    {
      "cell_type": "code",
      "source": [
        "K = 7\n",
        "terdekat = jarak[:K]"
      ],
      "metadata": {
        "id": "cMkCUk7VIB12"
      },
      "execution_count": 4,
      "outputs": []
    },
    {
      "cell_type": "code",
      "source": [
        "kelas = {\"A\": 0, \"B\": 0}\n",
        "for t in terdekat:\n",
        "    kelas[t[1]] += 1"
      ],
      "metadata": {
        "id": "u3UwqXBrIFKW"
      },
      "execution_count": 5,
      "outputs": []
    },
    {
      "cell_type": "code",
      "source": [
        "if kelas[\"A\"] == kelas[\"B\"]:\n",
        "    y = terdekat[0][1]\n",
        "else:\n",
        "    y = max(kelas, key=kelas.get)\n",
        "\n",
        "print(\"Prediksi kelas y:\", y)"
      ],
      "metadata": {
        "colab": {
          "base_uri": "https://localhost:8080/"
        },
        "id": "cwptHS-hIK-W",
        "outputId": "a840e8a1-0ec4-4663-80a4-2b710397b908"
      },
      "execution_count": 6,
      "outputs": [
        {
          "output_type": "stream",
          "name": "stdout",
          "text": [
            "Prediksi kelas y: A\n"
          ]
        }
      ]
    }
  ]
}